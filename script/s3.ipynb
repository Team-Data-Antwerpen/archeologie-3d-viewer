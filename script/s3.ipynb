{
 "cells": [
  {
   "cell_type": "markdown",
   "id": "invisible-island",
   "metadata": {
    "tags": []
   },
   "source": [
    "# laserscans "
   ]
  },
  {
   "cell_type": "code",
   "execution_count": null,
   "id": "north-projection",
   "metadata": {},
   "outputs": [],
   "source": [
    "from turtle import Screen\n",
    "import boto3, os.path, yaml , glob\n",
    "from boto3.s3.transfer import TransferConfig\n",
    "\n",
    "paswd_file = os.path.join( r'F:\\secrets' , 'config.yml')\n",
    "with open(paswd_file) as f:\n",
    "    pass_dict = yaml.safe_load(f)\n",
    "\n",
    "## acc-laserscans\n",
    "END_POINT = \"https://s3-ant1.antwerpen.be\"\n",
    "ACC_CLIENT_KEY = pass_dict['kw']['S3_LASER']['CLIENT_KEY'] \n",
    "ACC_SECRET =  pass_dict['kw']['S3_LASER']['SECRET'] \n",
    "ACC_TARGET = \"acc-laserscans\"\n",
    "\n",
    "CLIENT_KEY = pass_dict['kw']['S3_LASER_PROD']['CLIENT_KEY'] \n",
    "SECRET =  pass_dict['kw']['S3_LASER_PROD']['SECRET'] \n",
    "TARGET = \"prod-laserscans\"\n"
   ]
  },
  {
   "cell_type": "markdown",
   "id": "dd9fc2d6-aec9-49e1-9cdb-9f47bbe80967",
   "metadata": {},
   "source": [
    "## create new bucket"
   ]
  },
  {
   "cell_type": "code",
   "execution_count": null,
   "id": "604674d1-ce0e-4818-802b-03f5f9e9aa94",
   "metadata": {},
   "outputs": [],
   "source": [
    "session = boto3.session.Session(aws_access_key_id= CLIENT_KEY, \n",
    "                                    aws_secret_access_key= SECRET)\n",
    "s3 = session.resource(\"s3\", endpoint_url= END_POINT)\n",
    "s3_client = session.client('s3', endpoint_url= END_POINT)\n",
    "#s3_client.create_bucket(Bucket=\"acc-antwerpen-herdenkt\")\n",
    "s3_client"
   ]
  },
  {
   "cell_type": "markdown",
   "id": "0925b8d7-3cdc-4c41-9591-02e36c35a57a",
   "metadata": {},
   "source": [
    "## set CORS"
   ]
  },
  {
   "cell_type": "code",
   "execution_count": null,
   "id": "0ec946b1-dcee-4c4b-9ddd-89abdbe40f55",
   "metadata": {},
   "outputs": [],
   "source": [
    "#SET cors settings : \n",
    "#https://boto3.amazonaws.com/v1/documentation/api/latest/guide/s3-example-configuring-buckets.html\n",
    "bucket = s3.Bucket(TARGET)\n",
    "cors_configuration = {\n",
    "    'CORSRules': [{\n",
    "        'AllowedHeaders': ['*'],\n",
    "        'AllowedMethods': ['GET', 'PUT', 'HEAD'],\n",
    "        'AllowedOrigins': ['*'],\n",
    "        'ExposeHeaders': ['GET', 'PUT', 'HEAD', 'ETag', 'x-amz-meta-myheader'],\n",
    "        'MaxAgeSeconds': 3000\n",
    "    }]\n",
    "}\n",
    "s3_client.put_bucket_cors(Bucket= TARGET , CORSConfiguration=cors_configuration)\n",
    "s3_client.get_bucket_cors(Bucket= TARGET)"
   ]
  },
  {
   "cell_type": "code",
   "execution_count": null,
   "id": "da505a8f-207c-43da-b716-3f5840aa9582",
   "metadata": {},
   "outputs": [],
   "source": [
    "os.path.basename( glob.glob( \"../llvv/*.geojson\")[1] )"
   ]
  },
  {
   "cell_type": "markdown",
   "id": "3bebb392-912a-4117-bb79-393e0d656929",
   "metadata": {},
   "source": [
    "## upload data"
   ]
  },
  {
   "cell_type": "code",
   "execution_count": null,
   "id": "every-snowboard",
   "metadata": {},
   "outputs": [],
   "source": [
    "bucket = s3.Bucket(TARGET)\n",
    "gfiles = [ os.path.abspath(n) for n in glob.glob( \"../data/*.geojson\") ]\n",
    "\n",
    "for f in gfiles:\n",
    "    targetF = 'data/'+ os.path.basename(f)\n",
    "    bucket.put_object(Key=targetF, \n",
    "                      Body=open(f , 'rb'), \n",
    "                      ACL='public-read', ContentType='application/json' ) \n",
    "                      \n",
    "vfiles = [ os.path.abspath(n) for n in glob.glob( \"../data/*.svg\") ]\n",
    "for f in vfiles:\n",
    "    targetF = 'data/'+ os.path.basename(f)\n",
    "    bucket.put_object(Key=targetF, \n",
    "                      Body=open(f , 'rb'), \n",
    "                      ACL='public-read', ContentType='image/svg+xml' ) "
   ]
  },
  {
   "cell_type": "code",
   "execution_count": null,
   "id": "8b29c729-44be-47d7-90d0-e7bf0fc37f51",
   "metadata": {},
   "outputs": [],
   "source": [
    "list(bucket.objects.all())"
   ]
  }
 ],
 "metadata": {
  "kernelspec": {
   "display_name": "Python 3.9.12 ('esri')",
   "language": "python",
   "name": "python3"
  },
  "language_info": {
   "codemirror_mode": {
    "name": "ipython",
    "version": 3
   },
   "file_extension": ".py",
   "mimetype": "text/x-python",
   "name": "python",
   "nbconvert_exporter": "python",
   "pygments_lexer": "ipython3",
   "version": "3.9.12"
  },
  "vscode": {
   "interpreter": {
    "hash": "987c1816bd3e42b4f3c3fd44e7c059ddd75dd1b6121b6aff0fcb7c68e8fcb74f"
   }
  }
 },
 "nbformat": 4,
 "nbformat_minor": 5
}
